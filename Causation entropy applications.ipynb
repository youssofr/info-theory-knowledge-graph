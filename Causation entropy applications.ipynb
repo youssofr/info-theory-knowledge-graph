{
 "cells": [
  {
   "cell_type": "markdown",
   "metadata": {},
   "source": [
    "# Causation Entropy\n",
    "\n",
    "Entropy is a measure historically coined to study the reversiblity of heat engines. So a high entopic process means it is far away from reversibilty. This seemingly phenomenological quantity proved to have a much deeper connection to broader ranges of phenomenon, and the way it is defined proved it has deeper implications and connection to different fields of knowledge. a citation is needed here to illustrate this connection and show some interpretations.\n",
    "\n",
    "Entropy is accepted as a measure of _surprise_ or _uncertainty_ in communication theory. Entropy is accepted as a measure of _disorder_ in statistical physics. Here I would like to adopt the communication theory interpretation of entropy, a measure of _uncertainty_ or _surprise_. \n",
    "\n"
   ]
  },
  {
   "cell_type": "code",
   "execution_count": null,
   "metadata": {},
   "outputs": [],
   "source": [
    "## TODO\n",
    "# entropy: one argument, probably not useful\n",
    "# cross entropy: two arguments, useful, base for other levels\n",
    "# conditional entropy: argument is a joint probability distribution \n",
    "#                      not two marginal probability distributions\n",
    "# transfer entropy: conditional entropy of (Xt+1 | Xt) - (Xt+1 | Xt, Yt)\n",
    "# Causation entropy: difference in transfer entropy conditioned on a set S\n",
    "#                    rather than a prior distribution Xt"
   ]
  },
  {
   "cell_type": "markdown",
   "metadata": {},
   "source": [
    "Check: [`pyinform`](https://elife-asu.github.io/PyInform/)\n",
    "\n",
    "Summary of Libraries\n",
    "\n",
    "Library |\tMutual Information (MI)   |\tConditional Entropy (CE)     |\tTransfer Entropy (TE)\n",
    "--------|-----------------------------|------------------------------|------------------------\n",
    "sklearn |   ✅ (mutual_info_classif)  |\t❌ (must compute manually) |\t          ❌\n",
    "scipy\t| ✅ (via entropy differences)|\t✅ (manual computation)\t  |           ❌\n",
    "NPEET\t| ✅ (mi)\t                 |   ✅ (condentropy)          |\t          ❌\n",
    "PyInform|             ❌              |             ❌              | ✅ (transferentropy) "
   ]
  },
  {
   "cell_type": "markdown",
   "metadata": {},
   "source": [
    "# Define Conditional Entropy"
   ]
  },
  {
   "cell_type": "code",
   "execution_count": 10,
   "metadata": {},
   "outputs": [],
   "source": [
    "import numpy as np\n",
    "import pandas as pd\n",
    "from scipy.stats import entropy as scipy_entropy\n",
    "from numpy.testing import assert_almost_equal\n",
    "from itertools import product"
   ]
  },
  {
   "cell_type": "code",
   "execution_count": 88,
   "metadata": {},
   "outputs": [],
   "source": [
    "def gen_conditional_entropy(X, *Y, nbins=10, base=2):\n",
    "\n",
    "    b = np.log(base)\n",
    "\n",
    "    Y = np.array(Y)\n",
    "    X, Y = X.flatten(), Y.reshape(Y.shape[0], -1)\n",
    "\n",
    "    x_min, x_max = np.min(X), np.max(X)\n",
    "    y_min, y_max = np.min(Y, axis=1), np.max(Y, axis=1)\n",
    "    X_bins = np.linspace(x_min, x_max, nbins+1)\n",
    "    Y_bins = np.linspace(y_min, y_max, nbins+1).T\n",
    "\n",
    "    X_bins[-1] += 1\n",
    "    Y_bins[:,-1] += 1\n",
    "\n",
    "    joint_dims = tuple(Y.shape[0] * [nbins])\n",
    "    joint_dimsp1 = tuple((Y.shape[0] + 1) * [nbins])\n",
    "\n",
    "    Py = np.empty(joint_dims)\n",
    "    Pxy = np.empty(joint_dimsp1)\n",
    "    CE = 0\n",
    "\n",
    "    joint_ranges = [range(x) for x in joint_dims]\n",
    "    for indices in product(*joint_ranges):\n",
    "        condition = np.ones_like(Y[0], dtype=np.bool_)\n",
    "        for ii in range(len(joint_ranges)):\n",
    "            condition = condition & (Y[ii] >= Y_bins[ii,indices[ii]]) &\\\n",
    "                        (Y[ii] < Y_bins[ii,indices[ii]+1])\n",
    "        Py[*indices] = np.where(condition, 1, 0).sum() / Y.shape[1]\n",
    "\n",
    "    for k, indices in product(range(nbins), product(*joint_ranges)):\n",
    "        condition = np.ones_like(Y[0], dtype=np.bool_)\n",
    "        for ii in range(len(joint_ranges)):\n",
    "            condition = condition & (Y[ii] >= Y_bins[ii,indices[ii]]) &\\\n",
    "                        (Y[ii] < Y_bins[ii,indices[ii]+1])\n",
    "        condition = condition & (X >= X_bins[k]) & (X < X_bins[k+1])\n",
    "        Pxy[k, *indices] = np.where(condition, 1, 0).sum() / X.shape[0]\n",
    "\n",
    "        if Pxy[k, *indices] and Py[*indices]:\n",
    "            CE += Pxy[k, *indices] * np.log(Py[*indices] / Pxy[k, *indices] ) / b\n",
    "\n",
    "    return CE"
   ]
  },
  {
   "cell_type": "code",
   "execution_count": 91,
   "metadata": {},
   "outputs": [
    {
     "name": "stdout",
     "output_type": "stream",
     "text": [
      "   my conditional entropy = 2.459459458304302\n",
      "scipy conditional entropy = 2.468045019757652\n"
     ]
    }
   ],
   "source": [
    "X = np.random.rand(100)\n",
    "Y = np.random.rand(100)\n",
    "\n",
    "ce = gen_conditional_entropy(X, Y)\n",
    "cesp = scipy_conditional_entropy(X,Y)\n",
    "print(f\"   my conditional entropy = {ce}\")\n",
    "print(f\"scipy conditional entropy = {cesp}\")"
   ]
  },
  {
   "cell_type": "code",
   "execution_count": null,
   "metadata": {},
   "outputs": [],
   "source": [
    "def Prob(X, nbins=10):\n",
    "    X = X.flatten()\n",
    "\n",
    "    x_min, x_max = np.min(X), np.max(X)\n",
    "    binlims = np.linspace(x_min, x_max, nbins+1)\n",
    "\n",
    "    binlims[-1] += 1\n",
    "\n",
    "    Px = np.empty_like(binlims[1:])\n",
    "\n",
    "    for i in range(nbins):\n",
    "        Px[i] = np.where((X >= binlims[i]) & (X < binlims[i+1]), 1, 0).sum()\\\n",
    "               / X.shape[0]\n",
    "    \n",
    "    return Px\n",
    "\n",
    "\n",
    "def JointProb(X, Y, nbins=10):\n",
    "    \n",
    "    X, Y = X.flatten(), Y.flatten()\n",
    "\n",
    "    x_min, x_max = np.min(X), np.max(X)\n",
    "    y_min, y_max = np.min(Y), np.max(Y)\n",
    "    X_bins = np.linspace(x_min, x_max, nbins+1)\n",
    "    Y_bins = np.linspace(y_min, y_max, nbins+1)\n",
    "\n",
    "    X_bins[-1] += 1\n",
    "    Y_bins[-1] += 1\n",
    "\n",
    "    Pxy = np.empty((nbins, nbins))\n",
    "\n",
    "    for i,j  in product(range(nbins), range(nbins)):\n",
    "        Pxy[i,j] = np.where((Y >= Y_bins[j]) & (Y < Y_bins[j+1]) &\\\n",
    "                            (X >= X_bins[i]) & (X < X_bins[i+1]),\n",
    "                             1, 0).sum() / X.shape[0]\n",
    "        \n",
    "    return Pxy\n",
    "\n",
    "def entropy(X, nbins=10, base=2):\n",
    "\n",
    "    b = np.log(base)\n",
    "    Px = Prob(X, nbins=nbins)\n",
    "\n",
    "    return np.nansum( - Px * np.log(Px) / b)\n",
    "\n",
    "\n",
    "def conditional_entropy(X, Y, nbins=10, base=2):\n",
    "\n",
    "    b = np.log(base)\n",
    "\n",
    "    X, Y = X.flatten(), Y.flatten()\n",
    "\n",
    "    x_min, x_max = np.min(X), np.max(X)\n",
    "    y_min, y_max = np.min(Y), np.max(Y)\n",
    "    X_bins = np.linspace(x_min, x_max, nbins+1)\n",
    "    Y_bins = np.linspace(y_min, y_max, nbins+1)\n",
    "\n",
    "    X_bins[-1] += 1\n",
    "    Y_bins[-1] += 1\n",
    "\n",
    "    Py = np.empty_like(Y_bins[1:])\n",
    "    Pxy = np.empty((nbins, nbins))\n",
    "    CE = 0\n",
    "\n",
    "    for i in range(nbins):\n",
    "        Py[i] = np.where((Y >= Y_bins[i]) & (Y < Y_bins[i+1]), 1, 0).sum()\\\n",
    "               / Y.shape[0]\n",
    "\n",
    "    for i,j  in product(range(nbins), range(nbins)):\n",
    "        Pxy[i,j] = np.where((Y >= Y_bins[j]) & (Y < Y_bins[j+1]) &\\\n",
    "                            (X >= X_bins[i]) & (X < X_bins[i+1]),\n",
    "                             1, 0).sum() / X.shape[0]\n",
    "        if Pxy[i,j] and Py[j]:\n",
    "            CE -= Pxy[i,j] * np.log(Pxy[i,j] / Py[j]) / b\n",
    "    return CE\n",
    "\n",
    "def scipy_conditional_entropy(X, Y):\n",
    "    \"\"\"\n",
    "    Calculates the conditional entropy H(Y|X) of Y given X.\n",
    "\n",
    "    Args:\n",
    "        X (array-like): Values of the first random variable.\n",
    "        Y (array-like): Values of the second random variable.\n",
    "\n",
    "    Returns:\n",
    "        float: The conditional entropy H(Y|X).\n",
    "    \"\"\"\n",
    "\n",
    "    # Calculate the joint probability distribution of X and Y\n",
    "    joint_prob = np.histogram2d(X, Y, density=True)[0].flatten()\n",
    "    # joint_prob = joint_prob[joint_prob > 0]  # Remove 0 probabilities to avoid errors in log calculation\n",
    "\n",
    "    # Calculate the marginal probability distribution of X\n",
    "    marginal_prob_x = np.histogram(X, density=True)[0]\n",
    "    marginal_prob_x = marginal_prob_x[marginal_prob_x > 0]\n",
    "\n",
    "    # Calculate joint entropy H(X, Y)\n",
    "    joint_entropy = scipy_entropy(joint_prob, base=2)\n",
    "\n",
    "    # Calculate marginal entropy H(X)\n",
    "    marginal_entropy_x = scipy_entropy(marginal_prob_x, base=2)\n",
    "\n",
    "    # Calculate conditional entropy H(Y|X)\n",
    "    conditional_entropy = joint_entropy - marginal_entropy_x\n",
    "\n",
    "    return conditional_entropy"
   ]
  },
  {
   "cell_type": "markdown",
   "metadata": {},
   "source": [
    "## Test Implementation"
   ]
  },
  {
   "cell_type": "code",
   "execution_count": null,
   "metadata": {},
   "outputs": [
    {
     "ename": "IndexError",
     "evalue": "index 11 is out of bounds for axis 0 with size 11",
     "output_type": "error",
     "traceback": [
      "\u001b[1;31m---------------------------------------------------------------------------\u001b[0m",
      "\u001b[1;31mIndexError\u001b[0m                                Traceback (most recent call last)",
      "Cell \u001b[1;32mIn[68], line 16\u001b[0m\n\u001b[0;32m     13\u001b[0m ass(Pxy\u001b[38;5;241m.\u001b[39msum(\u001b[38;5;241m1\u001b[39m), Px)\n\u001b[0;32m     14\u001b[0m ass(Pxy\u001b[38;5;241m.\u001b[39msum(\u001b[38;5;241m0\u001b[39m), Py)\n\u001b[1;32m---> 16\u001b[0m ce \u001b[38;5;241m=\u001b[39m gen_conditional_entropy(X, X, Y)\n\u001b[0;32m     17\u001b[0m cesp \u001b[38;5;241m=\u001b[39m scipy_conditional_entropy(X,Y)\n\u001b[0;32m     18\u001b[0m \u001b[38;5;28mprint\u001b[39m(\u001b[38;5;124mf\u001b[39m\u001b[38;5;124m\"\u001b[39m\u001b[38;5;124m   my conditional entropy = \u001b[39m\u001b[38;5;132;01m{\u001b[39;00mce\u001b[38;5;132;01m}\u001b[39;00m\u001b[38;5;124m\"\u001b[39m)\n",
      "Cell \u001b[1;32mIn[67], line 36\u001b[0m, in \u001b[0;36mgen_conditional_entropy\u001b[1;34m(X, nbins, base, *Y)\u001b[0m\n\u001b[0;32m     33\u001b[0m \u001b[38;5;28;01mfor\u001b[39;00m ii \u001b[38;5;129;01min\u001b[39;00m \u001b[38;5;28mrange\u001b[39m(\u001b[38;5;28mlen\u001b[39m(joint_ranges)):\n\u001b[0;32m     34\u001b[0m     condition \u001b[38;5;241m=\u001b[39m condition \u001b[38;5;241m&\u001b[39m (Y[ii] \u001b[38;5;241m>\u001b[39m\u001b[38;5;241m=\u001b[39m Y_bins[ii,indices[ii]]) \u001b[38;5;241m&\u001b[39m\\\n\u001b[0;32m     35\u001b[0m                 (Y[ii] \u001b[38;5;241m<\u001b[39m Y_bins[ii,indices[ii]\u001b[38;5;241m+\u001b[39m\u001b[38;5;241m1\u001b[39m])\n\u001b[1;32m---> 36\u001b[0m condition \u001b[38;5;241m=\u001b[39m condition \u001b[38;5;241m&\u001b[39m (X \u001b[38;5;241m>\u001b[39m\u001b[38;5;241m=\u001b[39m X_bins[k]) \u001b[38;5;241m&\u001b[39m (X \u001b[38;5;241m<\u001b[39m X_bins[k\u001b[38;5;241m+\u001b[39m\u001b[38;5;241m1\u001b[39m])\n\u001b[0;32m     37\u001b[0m Pxy[k, \u001b[38;5;241m*\u001b[39mindices] \u001b[38;5;241m=\u001b[39m np\u001b[38;5;241m.\u001b[39mwhere(condition, \u001b[38;5;241m1\u001b[39m, \u001b[38;5;241m0\u001b[39m)\u001b[38;5;241m.\u001b[39msum() \u001b[38;5;241m/\u001b[39m X\u001b[38;5;241m.\u001b[39mshape[\u001b[38;5;241m0\u001b[39m]\n\u001b[0;32m     39\u001b[0m \u001b[38;5;28;01mif\u001b[39;00m Pxy[k, \u001b[38;5;241m*\u001b[39mindices] \u001b[38;5;129;01mand\u001b[39;00m Py[\u001b[38;5;241m*\u001b[39mindices]:\n",
      "\u001b[1;31mIndexError\u001b[0m: index 11 is out of bounds for axis 0 with size 11"
     ]
    }
   ],
   "source": [
    "X = np.random.rand(100)\n",
    "Y = np.random.rand(100)\n",
    "\n",
    "Px = Prob(X)\n",
    "Py = Prob(Y)\n",
    "Pxy = JointProb(X,Y)\n",
    "\n",
    "ass = lambda x, y : assert_almost_equal(x, y, 10)\n",
    "\n",
    "ass(Px.sum(), 1)\n",
    "ass(Py.sum(), 1)\n",
    "ass(Pxy.sum(), 1)\n",
    "ass(Pxy.sum(1), Px)\n",
    "ass(Pxy.sum(0), Py)\n",
    "\n",
    "ce = gen_conditional_entropy(X, Y)\n",
    "cesp = scipy_conditional_entropy(X,Y)\n",
    "print(f\"   my conditional entropy = {ce}\")\n",
    "print(f\"scipy conditional entropy = {cesp}\")"
   ]
  },
  {
   "cell_type": "code",
   "execution_count": 21,
   "metadata": {},
   "outputs": [
    {
     "name": "stdout",
     "output_type": "stream",
     "text": [
      "   my entropy = 3.2410128215230296\n",
      "scipy entropy = 3.24101282152303\n"
     ]
    }
   ],
   "source": [
    "print(f\"   my entropy = {entropy(X)}\")\n",
    "scipy_distr_X = np.histogram(X, density=True)[0]\n",
    "print(f\"scipy entropy = {scipy_entropy(scipy_distr_X, base=2)}\")"
   ]
  },
  {
   "cell_type": "markdown",
   "metadata": {},
   "source": [
    "# Preprocess Data"
   ]
  },
  {
   "cell_type": "code",
   "execution_count": 23,
   "metadata": {},
   "outputs": [
    {
     "data": {
      "application/vnd.microsoft.datawrangler.viewer.v0+json": {
       "columns": [
        {
         "name": "index",
         "rawType": "int64",
         "type": "integer"
        },
        {
         "name": "semester",
         "rawType": "object",
         "type": "string"
        },
        {
         "name": "sex",
         "rawType": "object",
         "type": "string"
        },
        {
         "name": "exam1",
         "rawType": "float64",
         "type": "float"
        },
        {
         "name": "exam2",
         "rawType": "float64",
         "type": "float"
        },
        {
         "name": "exam3",
         "rawType": "float64",
         "type": "float"
        },
        {
         "name": "course_grade",
         "rawType": "float64",
         "type": "float"
        }
       ],
       "conversionMethod": "pd.DataFrame",
       "ref": "afa10f58-0058-40a6-bf19-7df8f9c741f9",
       "rows": [
        [
         "0",
         "2000-1",
         "Man",
         "84.5",
         "69.5",
         "86.5",
         "76.2564"
        ],
        [
         "1",
         "2000-1",
         "Man",
         "80.0",
         "74.0",
         "67.0",
         "75.3882"
        ],
        [
         "2",
         "2000-1",
         "Man",
         "56.0",
         "70.0",
         "71.5",
         "67.0564"
        ],
        [
         "3",
         "2000-1",
         "Man",
         "64.0",
         "61.0",
         "67.5",
         "63.4538"
        ],
        [
         "4",
         "2000-1",
         "Man",
         "90.5",
         "72.5",
         "75.0",
         "72.3949"
        ]
       ],
       "shape": {
        "columns": 6,
        "rows": 5
       }
      },
      "text/html": [
       "<div>\n",
       "<style scoped>\n",
       "    .dataframe tbody tr th:only-of-type {\n",
       "        vertical-align: middle;\n",
       "    }\n",
       "\n",
       "    .dataframe tbody tr th {\n",
       "        vertical-align: top;\n",
       "    }\n",
       "\n",
       "    .dataframe thead th {\n",
       "        text-align: right;\n",
       "    }\n",
       "</style>\n",
       "<table border=\"1\" class=\"dataframe\">\n",
       "  <thead>\n",
       "    <tr style=\"text-align: right;\">\n",
       "      <th></th>\n",
       "      <th>semester</th>\n",
       "      <th>sex</th>\n",
       "      <th>exam1</th>\n",
       "      <th>exam2</th>\n",
       "      <th>exam3</th>\n",
       "      <th>course_grade</th>\n",
       "    </tr>\n",
       "  </thead>\n",
       "  <tbody>\n",
       "    <tr>\n",
       "      <th>0</th>\n",
       "      <td>2000-1</td>\n",
       "      <td>Man</td>\n",
       "      <td>84.5</td>\n",
       "      <td>69.5</td>\n",
       "      <td>86.5</td>\n",
       "      <td>76.2564</td>\n",
       "    </tr>\n",
       "    <tr>\n",
       "      <th>1</th>\n",
       "      <td>2000-1</td>\n",
       "      <td>Man</td>\n",
       "      <td>80.0</td>\n",
       "      <td>74.0</td>\n",
       "      <td>67.0</td>\n",
       "      <td>75.3882</td>\n",
       "    </tr>\n",
       "    <tr>\n",
       "      <th>2</th>\n",
       "      <td>2000-1</td>\n",
       "      <td>Man</td>\n",
       "      <td>56.0</td>\n",
       "      <td>70.0</td>\n",
       "      <td>71.5</td>\n",
       "      <td>67.0564</td>\n",
       "    </tr>\n",
       "    <tr>\n",
       "      <th>3</th>\n",
       "      <td>2000-1</td>\n",
       "      <td>Man</td>\n",
       "      <td>64.0</td>\n",
       "      <td>61.0</td>\n",
       "      <td>67.5</td>\n",
       "      <td>63.4538</td>\n",
       "    </tr>\n",
       "    <tr>\n",
       "      <th>4</th>\n",
       "      <td>2000-1</td>\n",
       "      <td>Man</td>\n",
       "      <td>90.5</td>\n",
       "      <td>72.5</td>\n",
       "      <td>75.0</td>\n",
       "      <td>72.3949</td>\n",
       "    </tr>\n",
       "  </tbody>\n",
       "</table>\n",
       "</div>"
      ],
      "text/plain": [
       "  semester  sex  exam1  exam2  exam3  course_grade\n",
       "0   2000-1  Man   84.5   69.5   86.5       76.2564\n",
       "1   2000-1  Man   80.0   74.0   67.0       75.3882\n",
       "2   2000-1  Man   56.0   70.0   71.5       67.0564\n",
       "3   2000-1  Man   64.0   61.0   67.5       63.4538\n",
       "4   2000-1  Man   90.5   72.5   75.0       72.3949"
      ]
     },
     "execution_count": 23,
     "metadata": {},
     "output_type": "execute_result"
    }
   ],
   "source": [
    "df_raw = pd.read_csv(\"data/exam_grades.csv\")\n",
    "\n",
    "df_raw.head()"
   ]
  },
  {
   "cell_type": "code",
   "execution_count": 24,
   "metadata": {},
   "outputs": [
    {
     "data": {
      "application/vnd.microsoft.datawrangler.viewer.v0+json": {
       "columns": [
        {
         "name": "index",
         "rawType": "object",
         "type": "string"
        },
        {
         "name": "exam1",
         "rawType": "float64",
         "type": "float"
        },
        {
         "name": "exam2",
         "rawType": "float64",
         "type": "float"
        },
        {
         "name": "exam3",
         "rawType": "float64",
         "type": "float"
        },
        {
         "name": "course_grade",
         "rawType": "float64",
         "type": "float"
        }
       ],
       "conversionMethod": "pd.DataFrame",
       "ref": "cf2148ee-3385-4040-bafc-0426a4a50b25",
       "rows": [
        [
         "count",
         "232.0",
         "233.0",
         "233.0",
         "233.0"
        ],
        [
         "mean",
         "80.76618534482758",
         "72.60557939914162",
         "75.47958927038626",
         "72.23883090128756"
        ],
        [
         "std",
         "11.067860247286466",
         "13.777468291715609",
         "14.706791102996219",
         "9.807053052834473"
        ],
        [
         "min",
         "46.5",
         "38.0",
         "28.0",
         "43.2733"
        ],
        [
         "25%",
         "73.5",
         "63.0",
         "67.0",
         "66.6958"
        ],
        [
         "50%",
         "82.0",
         "74.0",
         "78.0",
         "72.5267"
        ],
        [
         "75%",
         "89.625",
         "83.0",
         "86.0",
         "78.931"
        ],
        [
         "max",
         "99.3",
         "99.5",
         "98.8889",
         "97.5667"
        ]
       ],
       "shape": {
        "columns": 4,
        "rows": 8
       }
      },
      "text/html": [
       "<div>\n",
       "<style scoped>\n",
       "    .dataframe tbody tr th:only-of-type {\n",
       "        vertical-align: middle;\n",
       "    }\n",
       "\n",
       "    .dataframe tbody tr th {\n",
       "        vertical-align: top;\n",
       "    }\n",
       "\n",
       "    .dataframe thead th {\n",
       "        text-align: right;\n",
       "    }\n",
       "</style>\n",
       "<table border=\"1\" class=\"dataframe\">\n",
       "  <thead>\n",
       "    <tr style=\"text-align: right;\">\n",
       "      <th></th>\n",
       "      <th>exam1</th>\n",
       "      <th>exam2</th>\n",
       "      <th>exam3</th>\n",
       "      <th>course_grade</th>\n",
       "    </tr>\n",
       "  </thead>\n",
       "  <tbody>\n",
       "    <tr>\n",
       "      <th>count</th>\n",
       "      <td>232.000000</td>\n",
       "      <td>233.000000</td>\n",
       "      <td>233.000000</td>\n",
       "      <td>233.000000</td>\n",
       "    </tr>\n",
       "    <tr>\n",
       "      <th>mean</th>\n",
       "      <td>80.766185</td>\n",
       "      <td>72.605579</td>\n",
       "      <td>75.479589</td>\n",
       "      <td>72.238831</td>\n",
       "    </tr>\n",
       "    <tr>\n",
       "      <th>std</th>\n",
       "      <td>11.067860</td>\n",
       "      <td>13.777468</td>\n",
       "      <td>14.706791</td>\n",
       "      <td>9.807053</td>\n",
       "    </tr>\n",
       "    <tr>\n",
       "      <th>min</th>\n",
       "      <td>46.500000</td>\n",
       "      <td>38.000000</td>\n",
       "      <td>28.000000</td>\n",
       "      <td>43.273300</td>\n",
       "    </tr>\n",
       "    <tr>\n",
       "      <th>25%</th>\n",
       "      <td>73.500000</td>\n",
       "      <td>63.000000</td>\n",
       "      <td>67.000000</td>\n",
       "      <td>66.695800</td>\n",
       "    </tr>\n",
       "    <tr>\n",
       "      <th>50%</th>\n",
       "      <td>82.000000</td>\n",
       "      <td>74.000000</td>\n",
       "      <td>78.000000</td>\n",
       "      <td>72.526700</td>\n",
       "    </tr>\n",
       "    <tr>\n",
       "      <th>75%</th>\n",
       "      <td>89.625000</td>\n",
       "      <td>83.000000</td>\n",
       "      <td>86.000000</td>\n",
       "      <td>78.931000</td>\n",
       "    </tr>\n",
       "    <tr>\n",
       "      <th>max</th>\n",
       "      <td>99.300000</td>\n",
       "      <td>99.500000</td>\n",
       "      <td>98.888900</td>\n",
       "      <td>97.566700</td>\n",
       "    </tr>\n",
       "  </tbody>\n",
       "</table>\n",
       "</div>"
      ],
      "text/plain": [
       "            exam1       exam2       exam3  course_grade\n",
       "count  232.000000  233.000000  233.000000    233.000000\n",
       "mean    80.766185   72.605579   75.479589     72.238831\n",
       "std     11.067860   13.777468   14.706791      9.807053\n",
       "min     46.500000   38.000000   28.000000     43.273300\n",
       "25%     73.500000   63.000000   67.000000     66.695800\n",
       "50%     82.000000   74.000000   78.000000     72.526700\n",
       "75%     89.625000   83.000000   86.000000     78.931000\n",
       "max     99.300000   99.500000   98.888900     97.566700"
      ]
     },
     "execution_count": 24,
     "metadata": {},
     "output_type": "execute_result"
    }
   ],
   "source": [
    "df_raw.describe()"
   ]
  },
  {
   "cell_type": "code",
   "execution_count": 25,
   "metadata": {},
   "outputs": [
    {
     "name": "stdout",
     "output_type": "stream",
     "text": [
      "<class 'pandas.core.frame.DataFrame'>\n",
      "RangeIndex: 233 entries, 0 to 232\n",
      "Data columns (total 6 columns):\n",
      " #   Column        Non-Null Count  Dtype  \n",
      "---  ------        --------------  -----  \n",
      " 0   semester      233 non-null    object \n",
      " 1   sex           233 non-null    object \n",
      " 2   exam1         232 non-null    float64\n",
      " 3   exam2         233 non-null    float64\n",
      " 4   exam3         233 non-null    float64\n",
      " 5   course_grade  233 non-null    float64\n",
      "dtypes: float64(4), object(2)\n",
      "memory usage: 11.1+ KB\n"
     ]
    }
   ],
   "source": [
    "df_raw.info()"
   ]
  },
  {
   "cell_type": "code",
   "execution_count": 26,
   "metadata": {},
   "outputs": [],
   "source": [
    "df = df_raw.dropna()"
   ]
  }
 ],
 "metadata": {
  "kernelspec": {
   "display_name": "base",
   "language": "python",
   "name": "python3"
  },
  "language_info": {
   "codemirror_mode": {
    "name": "ipython",
    "version": 3
   },
   "file_extension": ".py",
   "mimetype": "text/x-python",
   "name": "python",
   "nbconvert_exporter": "python",
   "pygments_lexer": "ipython3",
   "version": "3.12.7"
  }
 },
 "nbformat": 4,
 "nbformat_minor": 2
}
